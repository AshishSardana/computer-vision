{
 "cells": [
  {
   "cell_type": "markdown",
   "metadata": {
    "collapsed": true
   },
   "source": [
    "### Loading libraries"
   ]
  },
  {
   "cell_type": "code",
   "execution_count": 1,
   "metadata": {},
   "outputs": [
    {
     "name": "stderr",
     "output_type": "stream",
     "text": [
      "Using TensorFlow backend.\n"
     ]
    }
   ],
   "source": [
    "import numpy as np\n",
    "import time\n",
    "import matplotlib.pyplot as plt\n",
    "\n",
    "from keras.models import Sequential\n",
    "from keras.layers import Conv2D, MaxPooling2D\n",
    "from keras.layers import Activation, Dropout, Flatten, Dense\n",
    "from keras.utils.np_utils import to_categorical\n",
    "from keras.callbacks import TensorBoard\n",
    "from keras import optimizers\n",
    "from keras.preprocessing.image import ImageDataGenerator as IDG\n",
    "from keras.optimizers import Adam"
   ]
  },
  {
   "cell_type": "markdown",
   "metadata": {},
   "source": [
    "# Convolution Neural network"
   ]
  },
  {
   "cell_type": "code",
   "execution_count": 2,
   "metadata": {
    "collapsed": true
   },
   "outputs": [],
   "source": [
    "split_ratio = 0.10\n",
    "EPOCHS = 100\n",
    "LR = 1e-3"
   ]
  },
  {
   "cell_type": "code",
   "execution_count": 3,
   "metadata": {
    "collapsed": true
   },
   "outputs": [],
   "source": [
    "t1 = time.time()"
   ]
  },
  {
   "cell_type": "code",
   "execution_count": 4,
   "metadata": {},
   "outputs": [
    {
     "name": "stdout",
     "output_type": "stream",
     "text": [
      "input shape: (1449, 240, 320, 3) \n",
      "output shape: (1449, 4800)\n"
     ]
    }
   ],
   "source": [
    "X = np.load('train_X_240_320.npy')\n",
    "y = np.load('train_Y_60_80.npy')\n",
    "print \"input shape: {} \\noutput shape: {}\".format(X.shape, y.shape)"
   ]
  },
  {
   "cell_type": "code",
   "execution_count": 5,
   "metadata": {
    "collapsed": true
   },
   "outputs": [],
   "source": [
    "model = Sequential()\n",
    "\n",
    "# First conv + activation + pooling layer\n",
    "model.add(Conv2D(filters = 32, kernel_size=(5,5), strides=(1,1), input_shape = X[1].shape,data_format=\"channels_last\"))\n",
    "model.add(Dropout(0.5))\n",
    "model.add(Activation('relu'))\n",
    "model.add(MaxPooling2D(pool_size=(2, 2)))\n",
    "\n",
    "# second conv + activation + pooling layer\n",
    "model.add(Conv2D(filters = 32,kernel_size= (5,5), strides=(1,1)))\n",
    "model.add(Dropout(0.5))\n",
    "model.add(Activation('relu'))\n",
    "model.add(MaxPooling2D(pool_size=(2, 2)))\n",
    "\n",
    "# third conv + activation + pooling layer\n",
    "model.add(Conv2D(filters = 64,kernel_size= (5,5), strides=(1,1)))\n",
    "model.add(Activation('relu'))\n",
    "model.add(MaxPooling2D(pool_size=(2, 2)))\n",
    "\n",
    "# Final decision layer \n",
    "\n",
    "model.add(Flatten())\n",
    "model.add(Dropout(0.5))\n",
    "model.add(Dense(y.shape[1]))\n"
   ]
  },
  {
   "cell_type": "code",
   "execution_count": 6,
   "metadata": {},
   "outputs": [
    {
     "name": "stdout",
     "output_type": "stream",
     "text": [
      "_________________________________________________________________\n",
      "Layer (type)                 Output Shape              Param #   \n",
      "=================================================================\n",
      "conv2d_1 (Conv2D)            (None, 236, 316, 32)      2432      \n",
      "_________________________________________________________________\n",
      "dropout_1 (Dropout)          (None, 236, 316, 32)      0         \n",
      "_________________________________________________________________\n",
      "activation_1 (Activation)    (None, 236, 316, 32)      0         \n",
      "_________________________________________________________________\n",
      "max_pooling2d_1 (MaxPooling2 (None, 118, 158, 32)      0         \n",
      "_________________________________________________________________\n",
      "conv2d_2 (Conv2D)            (None, 114, 154, 32)      25632     \n",
      "_________________________________________________________________\n",
      "dropout_2 (Dropout)          (None, 114, 154, 32)      0         \n",
      "_________________________________________________________________\n",
      "activation_2 (Activation)    (None, 114, 154, 32)      0         \n",
      "_________________________________________________________________\n",
      "max_pooling2d_2 (MaxPooling2 (None, 57, 77, 32)        0         \n",
      "_________________________________________________________________\n",
      "conv2d_3 (Conv2D)            (None, 53, 73, 64)        51264     \n",
      "_________________________________________________________________\n",
      "activation_3 (Activation)    (None, 53, 73, 64)        0         \n",
      "_________________________________________________________________\n",
      "max_pooling2d_3 (MaxPooling2 (None, 26, 36, 64)        0         \n",
      "_________________________________________________________________\n",
      "flatten_1 (Flatten)          (None, 59904)             0         \n",
      "_________________________________________________________________\n",
      "dropout_3 (Dropout)          (None, 59904)             0         \n",
      "_________________________________________________________________\n",
      "dense_1 (Dense)              (None, 4800)              287544000 \n",
      "=================================================================\n",
      "Total params: 287,623,328\n",
      "Trainable params: 287,623,328\n",
      "Non-trainable params: 0\n",
      "_________________________________________________________________\n"
     ]
    }
   ],
   "source": [
    "model.summary()"
   ]
  },
  {
   "cell_type": "markdown",
   "metadata": {},
   "source": [
    "#### Setting up tensoboard"
   ]
  },
  {
   "cell_type": "code",
   "execution_count": 7,
   "metadata": {
    "collapsed": true
   },
   "outputs": [],
   "source": [
    "adam = Adam(lr = LR, beta_1 = 0.9, beta_2 = 0.999, epsilon = 1e-08, decay = 0.0)\n",
    "model.compile(loss='mean_squared_error', optimizer = adam, metrics=['mae'])\n",
    "tensorboard = TensorBoard(log_dir=\"./logs_2\" , write_graph = True, write_images = True)"
   ]
  },
  {
   "cell_type": "code",
   "execution_count": 8,
   "metadata": {},
   "outputs": [
    {
     "name": "stdout",
     "output_type": "stream",
     "text": [
      "Train on 1304 samples, validate on 145 samples\n",
      "Epoch 1/100\n",
      "1304/1304 [==============================] - 1067s - loss: 0.8745 - mean_absolute_error: 0.5039 - val_loss: 0.0802 - val_mean_absolute_error: 0.2349\n",
      "Epoch 2/100\n",
      "1304/1304 [==============================] - 1127s - loss: 0.0310 - mean_absolute_error: 0.1330 - val_loss: 0.0920 - val_mean_absolute_error: 0.2566\n",
      "Epoch 3/100\n",
      "1304/1304 [==============================] - 1099s - loss: 0.0240 - mean_absolute_error: 0.1146 - val_loss: 0.0790 - val_mean_absolute_error: 0.2333\n",
      "Epoch 4/100\n",
      "1304/1304 [==============================] - 1088s - loss: 0.0221 - mean_absolute_error: 0.1105 - val_loss: 0.0844 - val_mean_absolute_error: 0.2433\n",
      "Epoch 5/100\n",
      "1304/1304 [==============================] - 961s - loss: 0.0198 - mean_absolute_error: 0.1052 - val_loss: 0.0874 - val_mean_absolute_error: 0.2486\n",
      "Epoch 6/100\n",
      "1304/1304 [==============================] - 1018s - loss: 0.0206 - mean_absolute_error: 0.1058 - val_loss: 0.0753 - val_mean_absolute_error: 0.2260\n",
      "Epoch 7/100\n",
      "1304/1304 [==============================] - 860s - loss: 0.0186 - mean_absolute_error: 0.1015 - val_loss: 0.0767 - val_mean_absolute_error: 0.2287\n",
      "Epoch 8/100\n",
      "1304/1304 [==============================] - 897s - loss: 0.0184 - mean_absolute_error: 0.1018 - val_loss: 0.0796 - val_mean_absolute_error: 0.2340\n",
      "Epoch 9/100\n",
      "1304/1304 [==============================] - 894s - loss: 0.0176 - mean_absolute_error: 0.0988 - val_loss: 0.0810 - val_mean_absolute_error: 0.2366\n",
      "Epoch 10/100\n",
      "1304/1304 [==============================] - 918s - loss: 0.0187 - mean_absolute_error: 0.1012 - val_loss: 0.0705 - val_mean_absolute_error: 0.2165\n",
      "Epoch 11/100\n",
      "1304/1304 [==============================] - 814s - loss: 0.0173 - mean_absolute_error: 0.0975 - val_loss: 0.0743 - val_mean_absolute_error: 0.2239\n",
      "Epoch 12/100\n",
      "1304/1304 [==============================] - 904s - loss: 0.0169 - mean_absolute_error: 0.0972 - val_loss: 0.0768 - val_mean_absolute_error: 0.2286\n",
      "Epoch 13/100\n",
      "1304/1304 [==============================] - 832s - loss: 0.0163 - mean_absolute_error: 0.0947 - val_loss: 0.0693 - val_mean_absolute_error: 0.2140\n",
      "Epoch 14/100\n",
      "1304/1304 [==============================] - 783s - loss: 0.0168 - mean_absolute_error: 0.0961 - val_loss: 0.0714 - val_mean_absolute_error: 0.2182\n",
      "Epoch 15/100\n",
      "1304/1304 [==============================] - 841s - loss: 0.0171 - mean_absolute_error: 0.0980 - val_loss: 0.0751 - val_mean_absolute_error: 0.2254\n",
      "Epoch 16/100\n",
      "1304/1304 [==============================] - 880s - loss: 0.0161 - mean_absolute_error: 0.0939 - val_loss: 0.0682 - val_mean_absolute_error: 0.2114\n",
      "Epoch 17/100\n",
      "1304/1304 [==============================] - 779s - loss: 0.0153 - mean_absolute_error: 0.0918 - val_loss: 0.0678 - val_mean_absolute_error: 0.2109\n",
      "Epoch 18/100\n",
      "1304/1304 [==============================] - 795s - loss: 0.0148 - mean_absolute_error: 0.0903 - val_loss: 0.0634 - val_mean_absolute_error: 0.2014\n",
      "Epoch 19/100\n",
      "1304/1304 [==============================] - 772s - loss: 0.0150 - mean_absolute_error: 0.0916 - val_loss: 0.0697 - val_mean_absolute_error: 0.2149\n",
      "Epoch 20/100\n",
      "1304/1304 [==============================] - 846s - loss: 0.0145 - mean_absolute_error: 0.0892 - val_loss: 0.0654 - val_mean_absolute_error: 0.2060\n",
      "Epoch 21/100\n",
      "1304/1304 [==============================] - 822s - loss: 0.0143 - mean_absolute_error: 0.0890 - val_loss: 0.0620 - val_mean_absolute_error: 0.1988\n",
      "Epoch 22/100\n",
      "1304/1304 [==============================] - 791s - loss: 0.0144 - mean_absolute_error: 0.0896 - val_loss: 0.0697 - val_mean_absolute_error: 0.2148\n",
      "Epoch 23/100\n",
      "1304/1304 [==============================] - 796s - loss: 0.0144 - mean_absolute_error: 0.0897 - val_loss: 0.0661 - val_mean_absolute_error: 0.2074\n",
      "Epoch 24/100\n",
      "1304/1304 [==============================] - 914s - loss: 0.0139 - mean_absolute_error: 0.0882 - val_loss: 0.0665 - val_mean_absolute_error: 0.2080\n",
      "Epoch 25/100\n",
      "1304/1304 [==============================] - 823s - loss: 0.0137 - mean_absolute_error: 0.0873 - val_loss: 0.0684 - val_mean_absolute_error: 0.2122\n",
      "Epoch 26/100\n",
      "1304/1304 [==============================] - 845s - loss: 0.0135 - mean_absolute_error: 0.0871 - val_loss: 0.0674 - val_mean_absolute_error: 0.2101\n",
      "Epoch 27/100\n",
      "1304/1304 [==============================] - 914s - loss: 0.0135 - mean_absolute_error: 0.0863 - val_loss: 0.0622 - val_mean_absolute_error: 0.1989\n",
      "Epoch 28/100\n",
      "1304/1304 [==============================] - 1025s - loss: 0.0134 - mean_absolute_error: 0.0863 - val_loss: 0.0659 - val_mean_absolute_error: 0.2071\n",
      "Epoch 29/100\n",
      "1304/1304 [==============================] - 982s - loss: 0.0137 - mean_absolute_error: 0.0868 - val_loss: 0.0633 - val_mean_absolute_error: 0.2011\n",
      "Epoch 30/100\n",
      "1304/1304 [==============================] - 1058s - loss: 0.0133 - mean_absolute_error: 0.0857 - val_loss: 0.0603 - val_mean_absolute_error: 0.1942\n",
      "Epoch 31/100\n",
      "1304/1304 [==============================] - 966s - loss: 0.0130 - mean_absolute_error: 0.0854 - val_loss: 0.0636 - val_mean_absolute_error: 0.2023\n",
      "Epoch 32/100\n",
      "1304/1304 [==============================] - 903s - loss: 0.0129 - mean_absolute_error: 0.0847 - val_loss: 0.0643 - val_mean_absolute_error: 0.2036\n",
      "Epoch 33/100\n",
      "1304/1304 [==============================] - 792s - loss: 0.0128 - mean_absolute_error: 0.0846 - val_loss: 0.0614 - val_mean_absolute_error: 0.1973\n",
      "Epoch 34/100\n",
      "1304/1304 [==============================] - 801s - loss: 0.0125 - mean_absolute_error: 0.0838 - val_loss: 0.0617 - val_mean_absolute_error: 0.1980\n",
      "Epoch 35/100\n",
      "1304/1304 [==============================] - 865s - loss: 0.0125 - mean_absolute_error: 0.0838 - val_loss: 0.0628 - val_mean_absolute_error: 0.2006\n",
      "Epoch 36/100\n",
      "1304/1304 [==============================] - 789s - loss: 0.0126 - mean_absolute_error: 0.0837 - val_loss: 0.0575 - val_mean_absolute_error: 0.1889\n",
      "Epoch 37/100\n",
      "1304/1304 [==============================] - 815s - loss: 0.0126 - mean_absolute_error: 0.0844 - val_loss: 0.0556 - val_mean_absolute_error: 0.1844\n",
      "Epoch 38/100\n",
      "1304/1304 [==============================] - 865s - loss: 0.0127 - mean_absolute_error: 0.0844 - val_loss: 0.0577 - val_mean_absolute_error: 0.1892\n",
      "Epoch 39/100\n",
      "1304/1304 [==============================] - 732s - loss: 0.0130 - mean_absolute_error: 0.0853 - val_loss: 0.0603 - val_mean_absolute_error: 0.1947\n",
      "Epoch 40/100\n",
      "1304/1304 [==============================] - 789s - loss: 0.0124 - mean_absolute_error: 0.0835 - val_loss: 0.0626 - val_mean_absolute_error: 0.1998\n",
      "Epoch 41/100\n",
      "1304/1304 [==============================] - 866s - loss: 0.0124 - mean_absolute_error: 0.0837 - val_loss: 0.0633 - val_mean_absolute_error: 0.2015\n",
      "Epoch 42/100\n",
      "1304/1304 [==============================] - 862s - loss: 0.0128 - mean_absolute_error: 0.0844 - val_loss: 0.0577 - val_mean_absolute_error: 0.1892\n",
      "Epoch 43/100\n",
      "1304/1304 [==============================] - 849s - loss: 0.0125 - mean_absolute_error: 0.0834 - val_loss: 0.0551 - val_mean_absolute_error: 0.1829\n",
      "Epoch 44/100\n",
      "1304/1304 [==============================] - 819s - loss: 0.0119 - mean_absolute_error: 0.0823 - val_loss: 0.0596 - val_mean_absolute_error: 0.19330.08\n",
      "Epoch 45/100\n",
      "1304/1304 [==============================] - 794s - loss: 0.0122 - mean_absolute_error: 0.0833 - val_loss: 0.0597 - val_mean_absolute_error: 0.1938\n",
      "Epoch 46/100\n",
      "1304/1304 [==============================] - 808s - loss: 0.0117 - mean_absolute_error: 0.0807 - val_loss: 0.0549 - val_mean_absolute_error: 0.1832\n",
      "Epoch 47/100\n",
      "1304/1304 [==============================] - 878s - loss: 0.0114 - mean_absolute_error: 0.0804 - val_loss: 0.0623 - val_mean_absolute_error: 0.1991\n",
      "Epoch 48/100\n",
      "1304/1304 [==============================] - 784s - loss: 0.0120 - mean_absolute_error: 0.0817 - val_loss: 0.0514 - val_mean_absolute_error: 0.1747\n",
      "Epoch 49/100\n",
      "1304/1304 [==============================] - 826s - loss: 0.0118 - mean_absolute_error: 0.0814 - val_loss: 0.0570 - val_mean_absolute_error: 0.1877\n",
      "Epoch 50/100\n",
      "1304/1304 [==============================] - 882s - loss: 0.0112 - mean_absolute_error: 0.0798 - val_loss: 0.0569 - val_mean_absolute_error: 0.1873\n",
      "Epoch 51/100\n",
      "1304/1304 [==============================] - 814s - loss: 0.0112 - mean_absolute_error: 0.0790 - val_loss: 0.0522 - val_mean_absolute_error: 0.1773\n",
      "Epoch 52/100\n",
      "1304/1304 [==============================] - 838s - loss: 0.0106 - mean_absolute_error: 0.0775 - val_loss: 0.0559 - val_mean_absolute_error: 0.1856\n",
      "Epoch 53/100\n",
      "1304/1304 [==============================] - 751s - loss: 0.0102 - mean_absolute_error: 0.0760 - val_loss: 0.0546 - val_mean_absolute_error: 0.1822\n",
      "Epoch 54/100\n",
      "1304/1304 [==============================] - 842s - loss: 0.0100 - mean_absolute_error: 0.0757 - val_loss: 0.0575 - val_mean_absolute_error: 0.1884\n",
      "Epoch 55/100\n",
      "1304/1304 [==============================] - 873s - loss: 0.0101 - mean_absolute_error: 0.0751 - val_loss: 0.0542 - val_mean_absolute_error: 0.1821\n",
      "Epoch 56/100\n",
      "1304/1304 [==============================] - 833s - loss: 0.0103 - mean_absolute_error: 0.0755 - val_loss: 0.0507 - val_mean_absolute_error: 0.1736\n",
      "Epoch 57/100\n",
      "1304/1304 [==============================] - 806s - loss: 0.0096 - mean_absolute_error: 0.0738 - val_loss: 0.0526 - val_mean_absolute_error: 0.1781\n",
      "Epoch 58/100\n",
      "1304/1304 [==============================] - 896s - loss: 0.0092 - mean_absolute_error: 0.0723 - val_loss: 0.0578 - val_mean_absolute_error: 0.1892\n",
      "Epoch 59/100\n",
      "1304/1304 [==============================] - 932s - loss: 0.0099 - mean_absolute_error: 0.0744 - val_loss: 0.0528 - val_mean_absolute_error: 0.1783\n",
      "Epoch 60/100\n",
      "1304/1304 [==============================] - 818s - loss: 0.0094 - mean_absolute_error: 0.0726 - val_loss: 0.0531 - val_mean_absolute_error: 0.1796\n",
      "Epoch 61/100\n",
      "1304/1304 [==============================] - 898s - loss: 0.0091 - mean_absolute_error: 0.0719 - val_loss: 0.0534 - val_mean_absolute_error: 0.1797\n",
      "Epoch 62/100\n",
      "1304/1304 [==============================] - 851s - loss: 0.0088 - mean_absolute_error: 0.0706 - val_loss: 0.0507 - val_mean_absolute_error: 0.1734\n",
      "Epoch 63/100\n",
      "1304/1304 [==============================] - 789s - loss: 0.0087 - mean_absolute_error: 0.0705 - val_loss: 0.0507 - val_mean_absolute_error: 0.1737\n",
      "Epoch 64/100\n",
      "1304/1304 [==============================] - 865s - loss: 0.0086 - mean_absolute_error: 0.0703 - val_loss: 0.0574 - val_mean_absolute_error: 0.1887\n",
      "Epoch 65/100\n",
      "1304/1304 [==============================] - 862s - loss: 0.0091 - mean_absolute_error: 0.0719 - val_loss: 0.0484 - val_mean_absolute_error: 0.1681\n",
      "Epoch 66/100\n",
      "1304/1304 [==============================] - 777s - loss: 0.0086 - mean_absolute_error: 0.0702 - val_loss: 0.0547 - val_mean_absolute_error: 0.1828\n",
      "Epoch 67/100\n",
      "1304/1304 [==============================] - 873s - loss: 0.0085 - mean_absolute_error: 0.0697 - val_loss: 0.0528 - val_mean_absolute_error: 0.1782\n",
      "Epoch 68/100\n",
      "1304/1304 [==============================] - 870s - loss: 0.0084 - mean_absolute_error: 0.0688 - val_loss: 0.0487 - val_mean_absolute_error: 0.1689\n",
      "Epoch 69/100\n",
      "1304/1304 [==============================] - 884s - loss: 0.0083 - mean_absolute_error: 0.0689 - val_loss: 0.0543 - val_mean_absolute_error: 0.1815\n",
      "Epoch 70/100\n",
      "1304/1304 [==============================] - 917s - loss: 0.0081 - mean_absolute_error: 0.0676 - val_loss: 0.0466 - val_mean_absolute_error: 0.1644\n",
      "Epoch 71/100\n",
      "1304/1304 [==============================] - 886s - loss: 0.0084 - mean_absolute_error: 0.0693 - val_loss: 0.0531 - val_mean_absolute_error: 0.1786\n",
      "Epoch 72/100\n",
      "1304/1304 [==============================] - 856s - loss: 0.0080 - mean_absolute_error: 0.0680 - val_loss: 0.0483 - val_mean_absolute_error: 0.1679\n",
      "Epoch 73/100\n",
      "1304/1304 [==============================] - 852s - loss: 0.0081 - mean_absolute_error: 0.0679 - val_loss: 0.0497 - val_mean_absolute_error: 0.1712\n",
      "Epoch 74/100\n",
      "1304/1304 [==============================] - 861s - loss: 0.0078 - mean_absolute_error: 0.0666 - val_loss: 0.0505 - val_mean_absolute_error: 0.1730\n",
      "Epoch 75/100\n",
      "1304/1304 [==============================] - 925s - loss: 0.0074 - mean_absolute_error: 0.0652 - val_loss: 0.0521 - val_mean_absolute_error: 0.1768\n",
      "Epoch 76/100\n",
      "1304/1304 [==============================] - 919s - loss: 0.0076 - mean_absolute_error: 0.0660 - val_loss: 0.0497 - val_mean_absolute_error: 0.1713\n",
      "Epoch 77/100\n",
      "1304/1304 [==============================] - 863s - loss: 0.0074 - mean_absolute_error: 0.0648 - val_loss: 0.0506 - val_mean_absolute_error: 0.1732\n",
      "Epoch 78/100\n",
      "1304/1304 [==============================] - 814s - loss: 0.0071 - mean_absolute_error: 0.0639 - val_loss: 0.0508 - val_mean_absolute_error: 0.1738\n",
      "Epoch 79/100\n",
      "1304/1304 [==============================] - 744s - loss: 0.0070 - mean_absolute_error: 0.0637 - val_loss: 0.0498 - val_mean_absolute_error: 0.1717\n",
      "Epoch 80/100\n",
      "1304/1304 [==============================] - 843s - loss: 0.0070 - mean_absolute_error: 0.0635 - val_loss: 0.0504 - val_mean_absolute_error: 0.1726\n",
      "Epoch 81/100\n",
      "1304/1304 [==============================] - 746s - loss: 0.0069 - mean_absolute_error: 0.0631 - val_loss: 0.0497 - val_mean_absolute_error: 0.1713\n",
      "Epoch 82/100\n",
      "1304/1304 [==============================] - 891s - loss: 0.0070 - mean_absolute_error: 0.0631 - val_loss: 0.0499 - val_mean_absolute_error: 0.1718\n",
      "Epoch 83/100\n",
      "1304/1304 [==============================] - 851s - loss: 0.0067 - mean_absolute_error: 0.0621 - val_loss: 0.0497 - val_mean_absolute_error: 0.1711\n",
      "Epoch 84/100\n",
      "1304/1304 [==============================] - 868s - loss: 0.0067 - mean_absolute_error: 0.0624 - val_loss: 0.0517 - val_mean_absolute_error: 0.1759\n",
      "Epoch 85/100\n",
      "1304/1304 [==============================] - 917s - loss: 0.0065 - mean_absolute_error: 0.0613 - val_loss: 0.0473 - val_mean_absolute_error: 0.1656\n",
      "Epoch 86/100\n",
      "1304/1304 [==============================] - 974s - loss: 0.0067 - mean_absolute_error: 0.0622 - val_loss: 0.0519 - val_mean_absolute_error: 0.1761\n",
      "Epoch 87/100\n",
      "1304/1304 [==============================] - 1074s - loss: 0.0063 - mean_absolute_error: 0.0601 - val_loss: 0.0518 - val_mean_absolute_error: 0.1756\n",
      "Epoch 88/100\n",
      "1304/1304 [==============================] - 1228s - loss: 0.0064 - mean_absolute_error: 0.0608 - val_loss: 0.0510 - val_mean_absolute_error: 0.1739\n",
      "Epoch 89/100\n",
      "1304/1304 [==============================] - 1499s - loss: 0.0065 - mean_absolute_error: 0.0610 - val_loss: 0.0494 - val_mean_absolute_error: 0.1703\n",
      "Epoch 90/100\n",
      "1304/1304 [==============================] - 977s - loss: 0.0062 - mean_absolute_error: 0.0598 - val_loss: 0.0509 - val_mean_absolute_error: 0.1739\n",
      "Epoch 91/100\n",
      "1304/1304 [==============================] - 859s - loss: 0.0061 - mean_absolute_error: 0.0596 - val_loss: 0.0519 - val_mean_absolute_error: 0.1756\n",
      "Epoch 92/100\n",
      "1304/1304 [==============================] - 810s - loss: 0.0059 - mean_absolute_error: 0.0584 - val_loss: 0.0509 - val_mean_absolute_error: 0.1738\n",
      "Epoch 93/100\n",
      "1304/1304 [==============================] - 852s - loss: 0.0062 - mean_absolute_error: 0.0592 - val_loss: 0.0485 - val_mean_absolute_error: 0.1678\n",
      "Epoch 94/100\n",
      "1304/1304 [==============================] - 814s - loss: 0.0060 - mean_absolute_error: 0.0588 - val_loss: 0.0533 - val_mean_absolute_error: 0.1788\n",
      "Epoch 95/100\n",
      "1304/1304 [==============================] - 810s - loss: 0.0060 - mean_absolute_error: 0.0587 - val_loss: 0.0471 - val_mean_absolute_error: 0.1648\n",
      "Epoch 96/100\n",
      "1304/1304 [==============================] - 835s - loss: 0.0058 - mean_absolute_error: 0.0579 - val_loss: 0.0508 - val_mean_absolute_error: 0.1734\n",
      "Epoch 97/100\n",
      "1304/1304 [==============================] - 765s - loss: 0.0058 - mean_absolute_error: 0.0577 - val_loss: 0.0496 - val_mean_absolute_error: 0.1705\n",
      "Epoch 98/100\n",
      "1304/1304 [==============================] - 837s - loss: 0.0055 - mean_absolute_error: 0.0565 - val_loss: 0.0486 - val_mean_absolute_error: 0.1684\n",
      "Epoch 99/100\n",
      "1304/1304 [==============================] - 864s - loss: 0.0055 - mean_absolute_error: 0.0563 - val_loss: 0.0508 - val_mean_absolute_error: 0.1735\n",
      "Epoch 100/100\n",
      "1304/1304 [==============================] - 811s - loss: 0.0056 - mean_absolute_error: 0.0567 - val_loss: 0.0508 - val_mean_absolute_error: 0.1732\n"
     ]
    }
   ],
   "source": [
    "history = model.fit(X, y, epochs = EPOCHS, batch_size = 128,verbose = 1, validation_split = split_ratio \n",
    "                    , callbacks=[tensorboard], shuffle = True)"
   ]
  },
  {
   "cell_type": "code",
   "execution_count": 9,
   "metadata": {},
   "outputs": [
    {
     "name": "stdout",
     "output_type": "stream",
     "text": [
      "Run time 24.4380483575 min\n"
     ]
    }
   ],
   "source": [
    "t2 = time.time()\n",
    "print \"Run time {} hr\".format((t2-t1)/(60*60))"
   ]
  },
  {
   "cell_type": "code",
   "execution_count": 10,
   "metadata": {
    "collapsed": true
   },
   "outputs": [],
   "source": [
    "model.save_weights('cnn_regression_complete_image2.h5') "
   ]
  },
  {
   "cell_type": "code",
   "execution_count": 11,
   "metadata": {},
   "outputs": [
    {
     "name": "stdout",
     "output_type": "stream",
     "text": [
      "1449/1449 [==============================] - 97s    \n"
     ]
    }
   ],
   "source": [
    "prediction = model.predict(X, verbose = 1)\n",
    "predicted_depth = prediction.reshape((y.shape[0], 60, 80))"
   ]
  },
  {
   "cell_type": "code",
   "execution_count": 12,
   "metadata": {
    "collapsed": true
   },
   "outputs": [],
   "source": [
    "actual_depth = y.reshape((y.shape[0] , 60 , 80))"
   ]
  },
  {
   "cell_type": "code",
   "execution_count": 14,
   "metadata": {
    "collapsed": true
   },
   "outputs": [],
   "source": [
    "def plotting(i) :\n",
    "    plt.figure(figsize=(10,4))\n",
    "    plt.subplot(1,3,1)\n",
    "    plt.title(\"RGB Image\")\n",
    "    plt.imshow(X[i], cmap = 'gray', interpolation = 'bicubic')\n",
    "    plt.subplot(1,3,2)\n",
    "    plt.title(\"Actual Depth Map\")\n",
    "    plt.imshow(actual_depth[i], cmap = 'gray', interpolation = 'bicubic')\n",
    "    plt.subplot(1,3,3)\n",
    "    plt.title(\"Predicted Depth Map\")\n",
    "    plt.imshow(predicted_depth[i], cmap = 'gray', interpolation = 'bicubic')\n",
    "    plt.show()"
   ]
  }
 ],
 "metadata": {
  "kernelspec": {
   "display_name": "Python 2",
   "language": "python",
   "name": "python2"
  },
  "language_info": {
   "codemirror_mode": {
    "name": "ipython",
    "version": 2
   },
   "file_extension": ".py",
   "mimetype": "text/x-python",
   "name": "python",
   "nbconvert_exporter": "python",
   "pygments_lexer": "ipython2",
   "version": "2.7.13"
  }
 },
 "nbformat": 4,
 "nbformat_minor": 2
}
